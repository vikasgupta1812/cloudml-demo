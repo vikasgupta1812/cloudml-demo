{
 "cells": [
  {
   "cell_type": "markdown",
   "metadata": {},
   "source": [
    "# Classifying Manhattan with BigQuery and TensorFlow\n",
    "\n",
    "<br/>\n",
    "![](images/manhattan.png)\n",
    "<br/>\n",
    "<br/>\n"
   ]
  },
  {
   "cell_type": "markdown",
   "metadata": {},
   "source": [
    "## Clear all Cells"
   ]
  },
  {
   "cell_type": "markdown",
   "metadata": {},
   "source": [
    "## Importing the training data from BigQuery"
   ]
  },
  {
   "cell_type": "code",
   "execution_count": null,
   "metadata": {
    "collapsed": false
   },
   "outputs": [],
   "source": [
    "%%sql -d standard\n",
    "SELECT\n",
    "  timestamp,\n",
    "  borough,\n",
    "  latitude,\n",
    "  longitude\n",
    "FROM\n",
    "  `bigquery-public-data.new_york.nypd_mv_collisions`\n",
    "ORDER BY\n",
    "  timestamp DESC\n",
    "LIMIT\n",
    "  15"
   ]
  },
  {
   "cell_type": "markdown",
   "metadata": {},
   "source": [
    "## Preprocess the training data on BigQuery"
   ]
  },
  {
   "cell_type": "code",
   "execution_count": null,
   "metadata": {
    "collapsed": false
   },
   "outputs": [],
   "source": [
    "%%sql --module nyc_collisions\n",
    "SELECT\n",
    "  IF(borough = 'MANHATTAN', 1, 0) AS is_mt,\n",
    "  latitude,\n",
    "  longitude\n",
    "FROM\n",
    "  `bigquery-public-data.new_york.nypd_mv_collisions`\n",
    "WHERE\n",
    "  LENGTH(borough) > 0\n",
    "  AND latitude IS NOT NULL AND latitude != 0.0\n",
    "  AND longitude IS NOT NULL AND longitude != 0.0\n",
    "  AND borough != 'BRONX'\n",
    "ORDER BY\n",
    "  RAND()\n",
    "LIMIT\n",
    "  10000"
   ]
  },
  {
   "cell_type": "markdown",
   "metadata": {},
   "source": [
    "## Import the BigQuery SQL result as NumPy array"
   ]
  },
  {
   "cell_type": "code",
   "execution_count": null,
   "metadata": {
    "collapsed": false
   },
   "outputs": [],
   "source": [
    "import datalab.bigquery as bq\n",
    "nyc_cols = bq.Query(nyc_collisions).to_dataframe(dialect='standard').as_matrix()\n",
    "\n",
    "import numpy as np\n",
    "is_mt = nyc_cols[:,0].astype(np.int32)\n",
    "latlng = nyc_cols[:,1:3].astype(np.float32)\n",
    "print(\"Is Manhattan: \" + str(is_mt))\n",
    "print(\"\\nLat/Lng: \\n\\n\" + str(latlng))\n",
    "print(\"\\nLoaded \" + str(is_mt.size) + \" rows.\")"
   ]
  },
  {
   "cell_type": "markdown",
   "metadata": {},
   "source": [
    "## Feature scaling and plotting"
   ]
  },
  {
   "cell_type": "code",
   "execution_count": null,
   "metadata": {
    "collapsed": false
   },
   "outputs": [],
   "source": [
    "# standardization\n",
    "from sklearn.preprocessing import StandardScaler\n",
    "latlng_std = StandardScaler().fit_transform(latlng)\n",
    "\n",
    "# plotting\n",
    "import matplotlib.pyplot as plt\n",
    "lat = latlng_std[:,0]\n",
    "lng = latlng_std[:,1]\n",
    "plt.scatter(lng[is_mt == 1], lat[is_mt == 1], c='b') # plot points in Manhattan in blue\n",
    "plt.scatter(lng[is_mt == 0], lat[is_mt == 0], c='y') # plot points outside Manhattan in yellow\n",
    "plt.show()"
   ]
  },
  {
   "cell_type": "markdown",
   "metadata": {},
   "source": [
    "## Split the data into \"Training Data\" and \"Test Data\""
   ]
  },
  {
   "cell_type": "code",
   "execution_count": null,
   "metadata": {
    "collapsed": false
   },
   "outputs": [],
   "source": [
    "# 8,000 pairs for training\n",
    "latlng_train = latlng_std[0:8000]\n",
    "is_mt_train = is_mt[0:8000]\n",
    "\n",
    "# 2,000 pairs for test\n",
    "latlng_test = latlng_std[8000:10000]\n",
    "is_mt_test = is_mt[8000:10000]"
   ]
  },
  {
   "cell_type": "markdown",
   "metadata": {},
   "source": [
    "## Define a neural network"
   ]
  },
  {
   "cell_type": "code",
   "execution_count": null,
   "metadata": {
    "collapsed": false
   },
   "outputs": [],
   "source": [
    "import tensorflow as tf\n",
    "tf.logging.set_verbosity(tf.logging.ERROR) # supress warning messages\n",
    "\n",
    "# define two feature columns with real values\n",
    "feature_columns = [tf.contrib.layers.real_valued_column(\"\", dimension=2)]\n",
    "\n",
    "# create a single layer neural network\n",
    "single_layer_nn = tf.contrib.learn.DNNClassifier(\n",
    "  feature_columns=feature_columns,\n",
    "  hidden_units=[],\n",
    "  n_classes=2)"
   ]
  },
  {
   "cell_type": "markdown",
   "metadata": {},
   "source": [
    "![](images/single_layer_nn.png)"
   ]
  },
  {
   "cell_type": "code",
   "execution_count": null,
   "metadata": {
    "collapsed": true
   },
   "outputs": [],
   "source": [
    "# create a five layer neural network\n",
    "five_layer_nn = tf.contrib.learn.DNNClassifier(\n",
    "  feature_columns=feature_columns,\n",
    "  hidden_units=[20, 20, 20, 20],\n",
    "  n_classes=2)"
   ]
  },
  {
   "cell_type": "markdown",
   "metadata": {},
   "source": [
    "![](images/five_layer_nn.png)"
   ]
  },
  {
   "cell_type": "markdown",
   "metadata": {},
   "source": [
    "### Check the accuracy of the neural network"
   ]
  },
  {
   "cell_type": "code",
   "execution_count": null,
   "metadata": {
    "collapsed": false
   },
   "outputs": [],
   "source": [
    "# plot a predicted map of Manhattan\n",
    "def plot_predicted_map(classifier):\n",
    "  is_mt_pred = classifier.predict(latlng_std, as_iterable=False) # an array of prediction results\n",
    "  plt.scatter(lng[is_mt_pred == 1], lat[is_mt_pred == 1], c='b')\n",
    "  plt.scatter(lng[is_mt_pred == 0], lat[is_mt_pred == 0], c='y')\n",
    "  plt.show()\n",
    "\n",
    "# print the accuracy of the neural network \n",
    "def print_accuracy(classifier):\n",
    "  accuracy = classifier.evaluate(x=latlng_test, y=is_mt_test)[\"accuracy\"]\n",
    "  print('Accuracy: {:.2%}'.format(accuracy))\n",
    "  \n",
    "# train the model just for 1 step and print the accuracy\n",
    "single_layer_nn.fit(x=latlng_train, y=is_mt_train, steps=1)\n",
    "plot_predicted_map(single_layer_nn)\n",
    "print_accuracy(single_layer_nn)\n",
    "\n",
    "# train the model just for 1 step and print the accuracy\n",
    "five_layer_nn.fit(x=latlng_train, y=is_mt_train, steps=1)\n",
    "plot_predicted_map(five_layer_nn)\n",
    "print_accuracy(five_layer_nn)"
   ]
  },
  {
   "cell_type": "markdown",
   "metadata": {},
   "source": [
    "### Train the neural network"
   ]
  },
  {
   "cell_type": "code",
   "execution_count": null,
   "metadata": {
    "collapsed": false
   },
   "outputs": [],
   "source": [
    "steps = 20\n",
    "for i in range (1, 6):\n",
    "  single_layer_nn.fit(x=latlng_train, y=is_mt_train, steps=steps)\n",
    "  five_layer_nn.fit(x=latlng_train, y=is_mt_train, steps=steps)\n",
    "  print('Steps: ' + str(i * steps))\n",
    "  plot_predicted_map(single_layer_nn)\n",
    "  plot_predicted_map(five_layer_nn)\n",
    "  \n",
    "print('\\nTraining Finished.')\n",
    "print_accuracy(single_layer_nn)\n",
    "print_accuracy(five_layer_nn)"
   ]
  },
  {
   "cell_type": "code",
   "execution_count": null,
   "metadata": {
    "collapsed": true
   },
   "outputs": [],
   "source": []
  }
 ],
 "metadata": {
  "kernelspec": {
   "display_name": "Python 2",
   "language": "python",
   "name": "python2"
  },
  "language_info": {
   "codemirror_mode": {
    "name": "ipython",
    "version": 2
   },
   "file_extension": ".py",
   "mimetype": "text/x-python",
   "name": "python",
   "nbconvert_exporter": "python",
   "pygments_lexer": "ipython2",
   "version": "2.7.9"
  }
 },
 "nbformat": 4,
 "nbformat_minor": 2
}
