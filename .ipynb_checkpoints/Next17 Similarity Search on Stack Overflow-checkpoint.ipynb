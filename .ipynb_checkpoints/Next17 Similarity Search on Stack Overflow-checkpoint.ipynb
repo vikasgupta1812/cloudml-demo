{
 "cells": [
  {
   "cell_type": "markdown",
   "metadata": {},
   "source": [
    "# Similarity search on Stack Overflow posts"
   ]
  },
  {
   "cell_type": "markdown",
   "metadata": {},
   "source": [
    "## Stack Overflow posts"
   ]
  },
  {
   "cell_type": "code",
   "execution_count": null,
   "metadata": {
    "collapsed": false
   },
   "outputs": [],
   "source": [
    "%%sql -d standard\n",
    "SELECT \n",
    "  id, title, body, view_count, tags\n",
    "FROM\n",
    "  `gcp-samples2.stackoverflow_demo.top100K_posts`\n",
    "ORDER BY\n",
    "  view_count DESC\n",
    "LIMIT\n",
    "  5"
   ]
  },
  {
   "cell_type": "markdown",
   "metadata": {},
   "source": [
    "## Segmentation"
   ]
  },
  {
   "cell_type": "code",
   "execution_count": null,
   "metadata": {
    "collapsed": false
   },
   "outputs": [],
   "source": [
    "%%sql -d standard\n",
    "CREATE TEMPORARY FUNCTION segmentation(body STRING)\n",
    "RETURNS ARRAY<STRING>\n",
    "LANGUAGE js AS \"\"\"\n",
    "\n",
    "// remove HTML tags, convert to lowercase and extract words\n",
    "return body.replace(/(<[^>]+>|&#[^;]+;)/g, '').toLowerCase().match(/\\\\w\\\\w+/g);\n",
    "\n",
    "\"\"\";\n",
    "\n",
    "SELECT\n",
    "  id, \n",
    "  segmentation(CONCAT(title, body, tags)) as words\n",
    "FROM\n",
    "  `gcp-samples2.stackoverflow_demo.top100K_posts`\n",
    "LIMIT\n",
    "  5\n",
    "\n",
    "# (for full query on 10M posts takes about 30 secs with 14.1GB)"
   ]
  },
  {
   "cell_type": "markdown",
   "metadata": {},
   "source": [
    "## Calculate Feature Vectors (TF-IDF) for each post"
   ]
  },
  {
   "cell_type": "code",
   "execution_count": null,
   "metadata": {
    "collapsed": false
   },
   "outputs": [],
   "source": [
    "%%sql -d standard\n",
    "CREATE TEMPORARY FUNCTION calc_tf_idf(words ARRAY<STRING>)\n",
    "RETURNS STRING\n",
    "LANGUAGE js AS \"\"\"\n",
    "\n",
    "// count each word in this post\n",
    "var word_count = new Object();\n",
    "for (word of words) {\n",
    "  if (word_count[word]) {\n",
    "    word_count[word]++;\n",
    "  } else {\n",
    "    word_count[word] = 1;\n",
    "  }\n",
    "}\n",
    "\n",
    "// calculate TF-IDF values for each word\n",
    "// tf = word count / total word count\n",
    "// idf = log (100K posts / # of posts with the word)\n",
    "// tf_idf = tf * idf\n",
    "var total_posts = 100000;\n",
    "var words_in_post = words.length;\n",
    "var tf_idf = new Object();\n",
    "var norm_sum = 0;\n",
    "for (word in word_count) {\n",
    "  if (word_dict[word] == null) {\n",
    "    word_dict[word] = 1;\n",
    "  }\n",
    "  var tf = (word_count[word] / words_in_post);\n",
    "  var idf = Math.log(total_posts / word_dict[word]);\n",
    "  tf_idf[word] = tf * idf;\n",
    "  norm_sum += tf_idf[word]^2;\n",
    "}\n",
    "\n",
    "// normarizing TF-IDF values with L2 norm\n",
    "for (word in tf_idf) {\n",
    "  tf_idf[word] = (tf_idf[word] / Math.sqrt(norm_sum)).toFixed(5);\n",
    "  if (tf_idf[word] < 0.01) {\n",
    "    delete tf_idf[word]; // remove trivial words\n",
    "  }\n",
    "}\n",
    "\n",
    "return JSON.stringify(tf_idf);\n",
    "\n",
    "\"\"\"\n",
    "OPTIONS (\n",
    "  library=\"gs://gcp-samples2-stackoverflow/word_dict_0.js\",\n",
    "  library=\"gs://gcp-samples2-stackoverflow/word_dict_1.js\",\n",
    "  library=\"gs://gcp-samples2-stackoverflow/word_dict_2.js\",\n",
    "  library=\"gs://gcp-samples2-stackoverflow/word_dict_3.js\",\n",
    "  library=\"gs://gcp-samples2-stackoverflow/word_dict_4.js\",\n",
    "  library=\"gs://gcp-samples2-stackoverflow/word_dict_5.js\",\n",
    "  library=\"gs://gcp-samples2-stackoverflow/word_dict_6.js\"\n",
    ");\n",
    "\n",
    "SELECT\n",
    "  id, calc_tf_idf(words) AS tf_idf\n",
    "FROM\n",
    "  `gcp-samples2.stackoverflow_demo.top100K_posts_segmented` AS posts\n",
    "LIMIT\n",
    "  10\n",
    "\n",
    "# (for full query on 10M posts takes 50 secs with 12.2GB)"
   ]
  },
  {
   "cell_type": "markdown",
   "metadata": {},
   "source": [
    "## Similarity Search with Feature Vectors"
   ]
  },
  {
   "cell_type": "code",
   "execution_count": null,
   "metadata": {
    "collapsed": false
   },
   "outputs": [],
   "source": [
    "%%sql -d standard\n",
    "CREATE TEMPORARY FUNCTION calc_similarity(tf_idf_json_0 STRING, tf_idf_json_1 STRING)\n",
    "RETURNS FLOAT64\n",
    "LANGUAGE js AS \"\"\"\n",
    "\n",
    "// parse JSON to extract tf_idf\n",
    "var tf_idf_0 = JSON.parse(tf_idf_json_0);\n",
    "var tf_idf_1 = JSON.parse(tf_idf_json_1);\n",
    "\n",
    "// calculate cosine similarity\n",
    "var similarity = 0;\n",
    "for (word in tf_idf_0) {\n",
    "  var t0 = tf_idf_0[word] ? Number(tf_idf_0[word]) : 0;\n",
    "  var t1 = tf_idf_1[word] ? Number(tf_idf_1[word]) : 0;\n",
    "  similarity += t0 * t1;\n",
    "}\n",
    "\n",
    "return similarity;\n",
    "\"\"\";\n",
    "\n",
    "SELECT\n",
    "  title,\n",
    "  body,\n",
    "  tags,\n",
    "  similarity\n",
    "FROM\n",
    "  (\n",
    "    SELECT\n",
    "      t1.id, \n",
    "      calc_similarity(tf_idf_0, t1.tf_idf) AS similarity\n",
    "    FROM\n",
    "      (\n",
    "        SELECT tf_idf AS tf_idf_0\n",
    "        FROM `gcp-samples2.stackoverflow_demo.top100K_posts_tf_idf` AS t0\n",
    "        WHERE id = 92082 \n",
    "      )\n",
    "    CROSS JOIN\n",
    "      `gcp-samples2.stackoverflow_demo.top100K_posts_tf_idf` AS t1\n",
    "    ORDER BY\n",
    "      similarity DESC\n",
    "    LIMIT\n",
    "      10\n",
    "  )\n",
    "JOIN\n",
    "  `gcp-samples2.stackoverflow_demo.top100K_posts` AS t2\n",
    "USING (id)  \n",
    "ORDER BY\n",
    "  similarity DESC\n",
    "\n",
    "# (for full query on 10M posts takes about 16 secs with 16 GB)\n",
    "\n",
    "# try other posts : \n",
    "# 5585779 (String to Int in Java)\n",
    "# 1789945 (substring in JS)\n",
    "# 92082 (add a column in SQL Server)\n",
    "# 503093 (redirecting in jQuery)"
   ]
  },
  {
   "cell_type": "code",
   "execution_count": null,
   "metadata": {
    "collapsed": true
   },
   "outputs": [],
   "source": []
  }
 ],
 "metadata": {
  "kernelspec": {
   "display_name": "Python 2",
   "language": "python",
   "name": "python2"
  },
  "language_info": {
   "codemirror_mode": {
    "name": "ipython",
    "version": 2
   },
   "file_extension": ".py",
   "mimetype": "text/x-python",
   "name": "python",
   "nbconvert_exporter": "python",
   "pygments_lexer": "ipython2",
   "version": "2.7.9"
  }
 },
 "nbformat": 4,
 "nbformat_minor": 2
}
